{
  "nbformat": 4,
  "nbformat_minor": 0,
  "metadata": {
    "colab": {
      "provenance": [],
      "authorship_tag": "ABX9TyP7PdI4xhLwS6B7WpVcwHbM",
      "include_colab_link": true
    },
    "kernelspec": {
      "name": "python3",
      "display_name": "Python 3"
    },
    "language_info": {
      "name": "python"
    }
  },
  "cells": [
    {
      "cell_type": "markdown",
      "metadata": {
        "id": "view-in-github",
        "colab_type": "text"
      },
      "source": [
        "<a href=\"https://colab.research.google.com/github/SumanthPR123/Teachnook-Data-Science-Jan-Batch/blob/main/Assignment1.ipynb\" target=\"_parent\"><img src=\"https://colab.research.google.com/assets/colab-badge.svg\" alt=\"Open In Colab\"/></a>"
      ]
    },
    {
      "cell_type": "code",
      "execution_count": 3,
      "metadata": {
        "id": "5SCSHCE3tfJa",
        "colab": {
          "base_uri": "https://localhost:8080/"
        },
        "outputId": "dc1b0dcf-9121-4457-c261-437a21d0703f"
      },
      "outputs": [
        {
          "output_type": "stream",
          "name": "stdout",
          "text": [
            "Enter the numberof elements in the list:5\n",
            "Enter the values of the list: \n",
            "Jessica\n",
            "Natasha\n",
            "Rebecca\n",
            "Valetta\n",
            "Amanda\n",
            "Values in the list are following:  ['Jessica', 'Natasha', 'Rebecca', 'Valetta', 'Amanda'] \n",
            "\n",
            "Enter the number of students in class: 6\n",
            "Enter the age of all the students in the class:\n",
            "16\n",
            "17\n",
            "17\n",
            "16\n",
            "18\n",
            "15\n",
            "Here are the ages of all the students in class: ['16', '17', '17', '16', '18', '15']\n"
          ]
        }
      ],
      "source": [
        "#Assignment 1: Two examples of Sets,Tuples,Dictionary and Lists.\n",
        "\n",
        "#Lists\n",
        "def listcreate(n):\n",
        "  lst1=[]\n",
        "  print(\"Enter the values of the list: \")\n",
        "  for i in range(n):\n",
        "    lst1.append(input())\n",
        "  print(\"Values in the list are following: \",lst1,\"\\n\")\n",
        "n=int(input(\"Enter the numberof elements in the list:\"))\n",
        "listcreate(n)\n",
        "\n",
        "def examplelst(n):\n",
        "  lst2=[]\n",
        "  print(\"Enter the age of all the students in the class:\")\n",
        "  for i in range(n):\n",
        "    lst2.append(input())\n",
        "  print(\"Here are the ages of all the students in class:\",lst2)\n",
        "\n",
        "n=int(input(\"Enter the number of students in class: \"))\n",
        "examplelst(n)"
      ]
    },
    {
      "cell_type": "code",
      "source": [
        "#Tuples\n",
        "tup1=(\"Monday\",\"Tuesday\",\"Wednesday\",\"Thursday\",\"Friday\",\"Saturday\",\"Sunday\")\n",
        "print(\"Days of a week are: \",tup1)\n",
        "\n",
        "tup2=(1,2,3,4,5,6,7,8,9,10)\n",
        "print(\"The first 10 natural numbers are: \",tup2)"
      ],
      "metadata": {
        "id": "OyffFYO-tpAC",
        "colab": {
          "base_uri": "https://localhost:8080/"
        },
        "outputId": "28eb8e94-9ee9-43ca-f66a-5079a38025b6"
      },
      "execution_count": 4,
      "outputs": [
        {
          "output_type": "stream",
          "name": "stdout",
          "text": [
            "Days of a week are:  ('Monday', 'Tuesday', 'Wednesday', 'Thursday', 'Friday', 'Saturday', 'Sunday')\n",
            "The first 10 natural numbers are:  (1, 2, 3, 4, 5, 6, 7, 8, 9, 10)\n"
          ]
        }
      ]
    },
    {
      "cell_type": "code",
      "source": [
        "#Sets\n",
        "def setexample1(n):\n",
        "  set1=set()\n",
        "  print(\"Enter the fruits you have had this month: \")\n",
        "  for i in range(n):\n",
        "    set1.add(input(\"\"))\n",
        "  print(\"The fruits you have eaten this month are: \",set1,\"\\n\")\n",
        "n=int(input(\"Enter the number of days you have eaten fruit: \"))\n",
        "setexample1(n)\n",
        "\n",
        "def setexample2(n):\n",
        "  set2=set()\n",
        "  print(\"Enter the employees who worked this shift day by day for the month: \")\n",
        "  for i in range(n):\n",
        "    set2.add(input(\"\"))\n",
        "  print(\"Employees who worked this month are: \",set2,\"\\n\")\n",
        "n=int(input(\"Enter the number of entries for the worker's list: \"))\n",
        "setexample2(n)"
      ],
      "metadata": {
        "id": "cajvOpAJtr8q",
        "colab": {
          "base_uri": "https://localhost:8080/"
        },
        "outputId": "da3c430c-05af-4140-d850-0529b2c22c60"
      },
      "execution_count": 5,
      "outputs": [
        {
          "output_type": "stream",
          "name": "stdout",
          "text": [
            "Enter the number of days you have eaten fruit: 10\n",
            "Enter the fruits you have had this month: \n",
            "Apple\n",
            "Mango\n",
            "Strawberry\n",
            "Mango\n",
            "Kiwi\n",
            "Apple\n",
            "Kiwi\n",
            "Custard apple\n",
            "Strawberry\n",
            "Sapota\n",
            "The fruits you have eaten this month are:  {'Custard apple', 'Strawberry', 'Kiwi', 'Mango', 'Apple', 'Sapota'} \n",
            "\n",
            "Enter the number of entries for the worker's list: 8\n",
            "Enter the employees who worked this shift day by day for the month: \n",
            "Kushal\n",
            "Jyoti\n",
            "Manish\n",
            "Jyoti\n",
            "Jain\n",
            "Kushal\n",
            "Litesh\n",
            "Guru\n",
            "Employees who worked this month are:  {'Manish', 'Jyoti', 'Jain', 'Kushal', 'Litesh', 'Guru'} \n",
            "\n"
          ]
        }
      ]
    },
    {
      "cell_type": "code",
      "source": [
        "#Dictionary\n",
        "hoteldata={\n",
        "    \"Name\":\"Sumanth\",\n",
        "    \"Age\":\"32\",\n",
        "    \"Tiers\":\"VIP Tier\",\n",
        "    \"Meals\":[\"Breakfast\",\"Lunch\",\"Dinner\"]\n",
        "}\n",
        "print(hoteldata)\n",
        "\n",
        "studentdata={\n",
        "    \"Name\":\"Sumanth\",\n",
        "    \"Age\":\"14\",\n",
        "    \"Subjects\":[\"Physics\",\"Chemistry\",\"Biology\"],\n",
        "    \"Class and Section\":\"VIII A\"\n",
        "}\n",
        "print(studentdata)"
      ],
      "metadata": {
        "id": "ny2XOGuztvZb",
        "colab": {
          "base_uri": "https://localhost:8080/"
        },
        "outputId": "a650fdf9-c81c-461a-a2fd-78fe09c1d66d"
      },
      "execution_count": 6,
      "outputs": [
        {
          "output_type": "stream",
          "name": "stdout",
          "text": [
            "{'Name': 'Sumanth', 'Age': '32', 'Tiers': 'VIP Tier', 'Meals': ['Breakfast', 'Lunch', 'Dinner']}\n",
            "{'Name': 'Sumanth', 'Age': '14', 'Subjects': ['Physics', 'Chemistry', 'Biology'], 'Class and Section': 'VIII A'}\n"
          ]
        }
      ]
    }
  ]
}